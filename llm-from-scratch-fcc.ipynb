{
 "cells": [
  {
   "cell_type": "code",
   "execution_count": 5,
   "id": "9b64f3e0",
   "metadata": {},
   "outputs": [],
   "source": [
    "with open(\"wiz_of_oz.txt\", 'r', encoding='utf-8') as f:\n",
    "    content = f.read()"
   ]
  },
  {
   "cell_type": "code",
   "execution_count": 25,
   "id": "cb8f8cf8",
   "metadata": {},
   "outputs": [
    {
     "data": {
      "text/plain": [
       "233385"
      ]
     },
     "execution_count": 25,
     "metadata": {},
     "output_type": "execute_result"
    }
   ],
   "source": [
    "vocab_size = len(content)\n",
    "vocab_size"
   ]
  },
  {
   "cell_type": "code",
   "execution_count": 8,
   "id": "ec5b00c0",
   "metadata": {},
   "outputs": [
    {
     "data": {
      "text/plain": [
       "'\\ufeffthe Wizard in Oz\\n    \\nThis ebook is for the use of anyone anywhere in the United States and\\nmost other parts of the world at no cost and with almost no restrictions\\nwhatsoever. You may copy it, give '"
      ]
     },
     "execution_count": 8,
     "metadata": {},
     "output_type": "execute_result"
    }
   ],
   "source": [
    "content[:200]"
   ]
  },
  {
   "cell_type": "code",
   "execution_count": null,
   "id": "a21e4ff6",
   "metadata": {},
   "outputs": [],
   "source": []
  },
  {
   "cell_type": "code",
   "execution_count": 10,
   "id": "10748877",
   "metadata": {},
   "outputs": [],
   "source": [
    "#Step1 - To create a vocabulary\n",
    "chars = sorted(set(content))"
   ]
  },
  {
   "cell_type": "code",
   "execution_count": 11,
   "id": "e47b4828",
   "metadata": {
    "scrolled": true
   },
   "outputs": [
    {
     "data": {
      "text/plain": [
       "['\\n',\n",
       " ' ',\n",
       " '!',\n",
       " '\"',\n",
       " '#',\n",
       " '&',\n",
       " \"'\",\n",
       " '(',\n",
       " ')',\n",
       " '*',\n",
       " ',',\n",
       " '-',\n",
       " '.',\n",
       " '/',\n",
       " '0',\n",
       " '1',\n",
       " '2',\n",
       " '3',\n",
       " '4',\n",
       " '5',\n",
       " '6',\n",
       " '7',\n",
       " '8',\n",
       " '9',\n",
       " ':',\n",
       " ';',\n",
       " '?',\n",
       " 'A',\n",
       " 'B',\n",
       " 'C',\n",
       " 'D',\n",
       " 'E',\n",
       " 'F',\n",
       " 'G',\n",
       " 'H',\n",
       " 'I',\n",
       " 'J',\n",
       " 'K',\n",
       " 'L',\n",
       " 'M',\n",
       " 'N',\n",
       " 'O',\n",
       " 'P',\n",
       " 'Q',\n",
       " 'R',\n",
       " 'S',\n",
       " 'T',\n",
       " 'U',\n",
       " 'V',\n",
       " 'W',\n",
       " 'X',\n",
       " 'Y',\n",
       " 'Z',\n",
       " '[',\n",
       " ']',\n",
       " '_',\n",
       " 'a',\n",
       " 'b',\n",
       " 'c',\n",
       " 'd',\n",
       " 'e',\n",
       " 'f',\n",
       " 'g',\n",
       " 'h',\n",
       " 'i',\n",
       " 'j',\n",
       " 'k',\n",
       " 'l',\n",
       " 'm',\n",
       " 'n',\n",
       " 'o',\n",
       " 'p',\n",
       " 'q',\n",
       " 'r',\n",
       " 's',\n",
       " 't',\n",
       " 'u',\n",
       " 'v',\n",
       " 'w',\n",
       " 'x',\n",
       " 'y',\n",
       " 'z',\n",
       " '\\ufeff']"
      ]
     },
     "execution_count": 11,
     "metadata": {},
     "output_type": "execute_result"
    }
   ],
   "source": [
    "chars"
   ]
  },
  {
   "cell_type": "code",
   "execution_count": 12,
   "id": "11a203f8",
   "metadata": {},
   "outputs": [
    {
     "data": {
      "text/plain": [
       "83"
      ]
     },
     "execution_count": 12,
     "metadata": {},
     "output_type": "execute_result"
    }
   ],
   "source": [
    "len(chars)"
   ]
  },
  {
   "cell_type": "code",
   "execution_count": 21,
   "id": "c47e396c",
   "metadata": {},
   "outputs": [],
   "source": [
    "string_to_int = {ch:i for i,ch in enumerate(chars)}\n",
    "int_to_string = {i:ch for i,ch in enumerate(chars)}\n",
    "encode = lambda s: [string_to_int[c] for c in s]\n",
    "decode = lambda l: ''.join([int_to_string[i] for i in l])\n"
   ]
  },
  {
   "cell_type": "code",
   "execution_count": null,
   "id": "ef272fb9",
   "metadata": {},
   "outputs": [],
   "source": []
  },
  {
   "cell_type": "code",
   "execution_count": 22,
   "id": "7e9421d9",
   "metadata": {
    "scrolled": true
   },
   "outputs": [],
   "source": [
    "\n",
    "encoded_hello = encode('hello')"
   ]
  },
  {
   "cell_type": "code",
   "execution_count": 23,
   "id": "309199d7",
   "metadata": {},
   "outputs": [
    {
     "data": {
      "text/plain": [
       "[63, 60, 67, 67, 70]"
      ]
     },
     "execution_count": 23,
     "metadata": {},
     "output_type": "execute_result"
    }
   ],
   "source": [
    "encoded_hello"
   ]
  },
  {
   "cell_type": "code",
   "execution_count": 24,
   "id": "4c37ad23",
   "metadata": {},
   "outputs": [
    {
     "data": {
      "text/plain": [
       "'hello'"
      ]
     },
     "execution_count": 24,
     "metadata": {},
     "output_type": "execute_result"
    }
   ],
   "source": [
    "decode(encoded_hello)"
   ]
  },
  {
   "cell_type": "code",
   "execution_count": 32,
   "id": "4b9987db",
   "metadata": {},
   "outputs": [
    {
     "name": "stdout",
     "output_type": "stream",
     "text": [
      "CPU times: total: 15.6 ms\n",
      "Wall time: 22.1 ms\n"
     ]
    }
   ],
   "source": [
    "%%time\n",
    "encoded_contents = encode(content)"
   ]
  },
  {
   "cell_type": "code",
   "execution_count": null,
   "id": "576bdc05",
   "metadata": {},
   "outputs": [],
   "source": []
  },
  {
   "cell_type": "code",
   "execution_count": 45,
   "id": "d4e5721e",
   "metadata": {},
   "outputs": [
    {
     "name": "stdout",
     "output_type": "stream",
     "text": [
      "cuda\n"
     ]
    }
   ],
   "source": [
    "import torch\n",
    "device = 'cuda' if torch.cuda.is_available() else 'cpu'\n",
    "print(device)\n",
    "\n",
    "block_size = 8\n",
    "batch_size = 4"
   ]
  },
  {
   "cell_type": "code",
   "execution_count": 35,
   "id": "3ee5d60c",
   "metadata": {},
   "outputs": [
    {
     "name": "stdout",
     "output_type": "stream",
     "text": [
      "CPU times: total: 0 ns\n",
      "Wall time: 38.7 ms\n"
     ]
    }
   ],
   "source": [
    "%%time\n",
    "data = torch.tensor(encode(content), dtype = torch.long)"
   ]
  },
  {
   "cell_type": "code",
   "execution_count": 31,
   "id": "0c7a133c",
   "metadata": {},
   "outputs": [
    {
     "data": {
      "text/plain": [
       "tensor([82, 75, 63, 60,  1, 49, 64, 81, 56, 73, 59,  1, 64, 69,  1, 41, 81,  0,\n",
       "         1,  1,  1,  1,  0, 46, 63, 64, 74,  1, 60, 57, 70, 70, 66,  1, 64, 74,\n",
       "         1, 61, 70, 73,  1, 75, 63, 60,  1, 76, 74, 60,  1, 70, 61,  1, 56, 69,\n",
       "        80, 70, 69, 60,  1, 56, 69, 80, 78, 63, 60, 73, 60,  1, 64, 69,  1, 75,\n",
       "        63, 60,  1, 47, 69, 64, 75, 60, 59,  1, 45, 75, 56, 75, 60, 74,  1, 56,\n",
       "        69, 59,  0, 68, 70, 74, 75,  1, 70, 75, 63, 60, 73,  1, 71, 56, 73, 75,\n",
       "        74,  1, 70, 61,  1, 75, 63, 60,  1, 78, 70, 73, 67, 59,  1, 56, 75,  1,\n",
       "        69, 70,  1, 58, 70, 74, 75,  1, 56, 69, 59,  1, 78, 64, 75, 63,  1, 56,\n",
       "        67, 68, 70, 74, 75,  1, 69, 70,  1, 73, 60, 74, 75, 73, 64, 58, 75, 64,\n",
       "        70, 69, 74,  0, 78, 63, 56, 75, 74, 70, 60, 77, 60, 73, 12,  1, 51, 70,\n",
       "        76,  1, 68, 56, 80,  1, 58, 70, 71, 80,  1, 64, 75, 10,  1, 62, 64, 77,\n",
       "        60])"
      ]
     },
     "execution_count": 31,
     "metadata": {},
     "output_type": "execute_result"
    }
   ],
   "source": [
    "data[:199]"
   ]
  },
  {
   "cell_type": "code",
   "execution_count": null,
   "id": "428761cc",
   "metadata": {},
   "outputs": [],
   "source": []
  },
  {
   "cell_type": "code",
   "execution_count": null,
   "id": "4fa74674",
   "metadata": {},
   "outputs": [],
   "source": []
  },
  {
   "cell_type": "code",
   "execution_count": 37,
   "id": "11f92455",
   "metadata": {},
   "outputs": [],
   "source": [
    "#create train_test split(80/20)\n",
    "n = int(0.8*len(data))\n",
    "train_data = data[:n]\n",
    "val_data = data[n:]"
   ]
  },
  {
   "cell_type": "code",
   "execution_count": 43,
   "id": "f8b22463",
   "metadata": {},
   "outputs": [
    {
     "data": {
      "text/plain": [
       "186708"
      ]
     },
     "execution_count": 43,
     "metadata": {},
     "output_type": "execute_result"
    }
   ],
   "source": [
    "n"
   ]
  },
  {
   "cell_type": "code",
   "execution_count": 40,
   "id": "8062bac1",
   "metadata": {},
   "outputs": [
    {
     "name": "stdout",
     "output_type": "stream",
     "text": [
      "when your input is : tensor([82]) target is  tensor(75)\n",
      "when your input is : tensor([82, 75]) target is  tensor(63)\n",
      "when your input is : tensor([82, 75, 63]) target is  tensor(60)\n",
      "when your input is : tensor([82, 75, 63, 60]) target is  tensor(1)\n",
      "when your input is : tensor([82, 75, 63, 60,  1]) target is  tensor(49)\n",
      "when your input is : tensor([82, 75, 63, 60,  1, 49]) target is  tensor(64)\n",
      "when your input is : tensor([82, 75, 63, 60,  1, 49, 64]) target is  tensor(81)\n",
      "when your input is : tensor([82, 75, 63, 60,  1, 49, 64, 81]) target is  tensor(56)\n"
     ]
    }
   ],
   "source": [
    "\n",
    "x = train_data[:block_size]\n",
    "y = train_data[1:block_size+1]\n",
    "\n",
    "for t in range(block_size):\n",
    "    context = x[:t+1]\n",
    "    target = y[t]\n",
    "    print('when your input is :',context, 'target is ', target)"
   ]
  },
  {
   "cell_type": "code",
   "execution_count": 41,
   "id": "1fddd371",
   "metadata": {},
   "outputs": [
    {
     "data": {
      "text/plain": [
       "tensor([82, 75, 63, 60,  1, 49, 64, 81])"
      ]
     },
     "execution_count": 41,
     "metadata": {},
     "output_type": "execute_result"
    }
   ],
   "source": [
    "x"
   ]
  },
  {
   "cell_type": "code",
   "execution_count": 42,
   "id": "914e309d",
   "metadata": {},
   "outputs": [
    {
     "data": {
      "text/plain": [
       "tensor([75, 63, 60,  1, 49, 64, 81, 56])"
      ]
     },
     "execution_count": 42,
     "metadata": {},
     "output_type": "execute_result"
    }
   ],
   "source": [
    "y"
   ]
  },
  {
   "cell_type": "code",
   "execution_count": null,
   "id": "e502438a",
   "metadata": {},
   "outputs": [],
   "source": []
  },
  {
   "cell_type": "code",
   "execution_count": null,
   "id": "84ed3859",
   "metadata": {},
   "outputs": [],
   "source": []
  }
 ],
 "metadata": {
  "kernelspec": {
   "display_name": "cuda-gpt",
   "language": "python",
   "name": "cudaenv"
  },
  "language_info": {
   "codemirror_mode": {
    "name": "ipython",
    "version": 3
   },
   "file_extension": ".py",
   "mimetype": "text/x-python",
   "name": "python",
   "nbconvert_exporter": "python",
   "pygments_lexer": "ipython3",
   "version": "3.8.8"
  }
 },
 "nbformat": 4,
 "nbformat_minor": 5
}
